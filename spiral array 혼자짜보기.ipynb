{
 "cells": [
  {
   "cell_type": "code",
   "execution_count": null,
   "metadata": {},
   "outputs": [],
   "source": [
    "######\n",
    "#완료 ok\n",
    "#80점"
   ]
  },
  {
   "cell_type": "code",
   "execution_count": 38,
   "metadata": {
    "scrolled": true
   },
   "outputs": [
    {
     "name": "stdout",
     "output_type": "stream",
     "text": [
      "[[0, 1, 2, 3, 4], [15, 16, 17, 18, 5], [14, 23, 24, 19, 6], [13, 22, 21, 20, 7], [12, 11, 10, 9, 8]]\n",
      "  0   1   2   3   4  \n",
      " 15  16  17  18   5  \n",
      " 14  23  24  19   6  \n",
      " 13  22  21  20   7  \n",
      " 12  11  10   9   8  \n"
     ]
    }
   ],
   "source": [
    "aa ='5 5'\n",
    "X,Y = map(int,aa.split(' '))\n",
    "# print(X,Y)\n",
    "spiral = [[-1 for i in range(X)] for j in range(Y)]\n",
    "# print(spiral)\n",
    "# print(spiral[0][0])\n",
    "cnt = 0\n",
    "x,y = 0,0\n",
    "dx, dy = 0,1\n",
    "\n",
    "while spiral[x][y] == -1:\n",
    "    spiral[x][y] = cnt\n",
    "    cnt += 1\n",
    "    x = x + dx\n",
    "    y = y + dy\n",
    "#     print(y)\n",
    "    if x == X or y == Y or spiral[x][y] !=-1:\n",
    "        x = x-dx\n",
    "        y = y-dy\n",
    "        dx,dy = dy, -dx\n",
    "        x = x+dx\n",
    "        y = y+dy\n",
    "        \n",
    "print(spiral)\n",
    "for i in spiral:\n",
    "    for j in i:\n",
    "        print(f'{j:3d}', end =' ')\n",
    "    print(' ')\n",
    "        \n",
    "# \n"
   ]
  },
  {
   "cell_type": "code",
   "execution_count": null,
   "metadata": {},
   "outputs": [],
   "source": []
  },
  {
   "cell_type": "code",
   "execution_count": null,
   "metadata": {},
   "outputs": [],
   "source": [
    "\n",
    "\n",
    "\n",
    "\n",
    "\n",
    "\n",
    "\n",
    "\n",
    "\n",
    "\n",
    "\n",
    "\n",
    "\n",
    "\n",
    "\n",
    "\n",
    "\n",
    "\n",
    "문제는 다음과 같다:\n",
    "6 6\n",
    "\n",
    "  0   1   2   3   4   5\n",
    " 19  20  21  22  23   6\n",
    " 18  31  32  33  24   7\n",
    " 17  30  35  34  25   8\n",
    " 16  29  28  27  26   9\n",
    " 15  14  13  12  11  10\n",
    "위처럼 6 6이라는 입력을 주면 6 X 6 매트릭스에 나선형 회전을 한 값을 출력해야 한\n",
    "\n",
    "\n",
    "\n",
    "\n",
    "\n",
    "\n",
    "\n",
    "\n",
    "\n"
   ]
  },
  {
   "cell_type": "code",
   "execution_count": 11,
   "metadata": {},
   "outputs": [],
   "source": [
    "aa = '5 5'\n",
    "X,Y = map(int,aa.split())\n",
    "table = [[-1 for i in range(X)] for j in range(Y)]\n",
    "\n",
    "# print(table)\n",
    "cnt  = 0\n",
    "x,y = 0,0\n",
    "dx,dy = 0,1\n",
    "\n",
    "# table[x][y]"
   ]
  },
  {
   "cell_type": "code",
   "execution_count": 16,
   "metadata": {},
   "outputs": [
    {
     "name": "stdout",
     "output_type": "stream",
     "text": [
      "  0   1   2   3   4  \n",
      " 15  16  17  18   5  \n",
      " 14  23  24  19   6  \n",
      " 13  22  21  20   7  \n",
      " 12  11  10   9   8  \n"
     ]
    }
   ],
   "source": [
    "while table[x][y] == -1:\n",
    "    table[x][y] = cnt\n",
    "    cnt += 1\n",
    "    x = x+dx\n",
    "    y = y+dy\n",
    "#     print(x,y)\n",
    "    if x== X or y ==Y or table[x][y] != -1:\n",
    "        x, y = x-dx, y-dy\n",
    "        dx, dy = dy,-dx\n",
    "        x, y = x+dx, y+dy\n",
    "        \n",
    "# print(table)\n",
    "    \n",
    "for i in table:\n",
    "    for j in i:\n",
    "        print('{0:3d}'.format(j),end = ' ')\n",
    "    print(' ')\n",
    "    \n",
    "# table[0]"
   ]
  }
 ],
 "metadata": {
  "kernelspec": {
   "display_name": "Python 3",
   "language": "python",
   "name": "python3"
  },
  "language_info": {
   "codemirror_mode": {
    "name": "ipython",
    "version": 3
   },
   "file_extension": ".py",
   "mimetype": "text/x-python",
   "name": "python",
   "nbconvert_exporter": "python",
   "pygments_lexer": "ipython3",
   "version": "3.7.6"
  }
 },
 "nbformat": 4,
 "nbformat_minor": 4
}
