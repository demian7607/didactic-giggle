{
 "cells": [
  {
   "cell_type": "code",
   "execution_count": 1,
   "metadata": {},
   "outputs": [],
   "source": [
    "table = [\n",
    "  ['23567890'],\n",
    "  ['456890', '12347890'],\n",
    "  ['2345689'],\n",
    "  ['2680', '134567890'],\n",
    "  ['2356890']\n",
    "]\n",
    "e, d, p = ' ', '-', '|'"
   ]
  },
  {
   "cell_type": "code",
   "execution_count": 32,
   "metadata": {},
   "outputs": [
    {
     "name": "stdout",
     "output_type": "stream",
     "text": [
      "['23567890']\n",
      "23567890\n"
     ]
    }
   ],
   "source": [
    "# table[0][0] ##뒤에 나오는 t[0]의 의미임\n",
    "t = table[0]\n",
    "print(t)\n",
    "print(t[0])"
   ]
  },
  {
   "cell_type": "code",
   "execution_count": 37,
   "metadata": {},
   "outputs": [
    {
     "name": "stdout",
     "output_type": "stream",
     "text": [
      "2 234\n",
      " --   --       \n",
      "   |    | |  | \n",
      "   |    | |  | \n",
      " --   --   --  \n",
      "|       |    | \n",
      "|       |    | \n",
      " --   --       \n",
      "\n",
      "0 0\n"
     ]
    }
   ],
   "source": [
    "# input 예시 2 12345  한칸 뛰면서 s와 n에 분할해서 들간다..\n",
    "\n",
    "######이런거 나갈때 0 0 이런걸로 나가야 에러 안나는듯!!!\n",
    "\n",
    "while True:\n",
    "    s, n = input().split(' ') #raw_input = 무조건 string으로 input #없어짐 걍 input이 다str 받음\n",
    "    if s == '0' and n == '0':  #둘다 0이면 끝내라\n",
    "        break\n",
    "    s = int(s) #s는 int로 다시받음 =>글자 크기니 곱에 사용\n",
    "    for row in range(0,5): #모든 숫자건 table 행은 다 순환해서 돈다\n",
    "        t =  table[row]    #각 행 t에 받음\n",
    "        if len(t) == 1 : #가로줄 받는 부분 2의 상단부와 같이..\n",
    "            for digit in n: #n은 string으로 받았으니 123 넣으면 1->2->3으로 for문임!(1부터 123아님)\n",
    "                c = d if digit in t[0] else e #t[0] 리스트로 받았으니 1번째 리스트 의미함,\n",
    "                #t[0]로 받아야 원소내에서 찾음! t는 리스트상 완전히 일치하는거 있어야\n",
    "                print (' %s  '%(c*s),end ='') # %s 뒤에 두칸 뛰어야 맞다 \n",
    "            print() #한칸 뛰기\n",
    "        else :\n",
    "            for r in range(0, s): #세로줄 다음줄이니 for문으로..\n",
    "                for digit in n :\n",
    "                    c = [p if digit in x else e for x in t] #t두항이니 for로\n",
    "                    print('%s%s%s '%(c[0],e*s,c[1]),end ='')\n",
    "                print()\n",
    "    print() # 다돌고 한칸 뛰어\n",
    "            \n",
    "    "
   ]
  },
  {
   "cell_type": "code",
   "execution_count": 2,
   "metadata": {
    "collapsed": true
   },
   "outputs": [
    {
     "name": "stdout",
     "output_type": "stream",
     "text": [
      "1\n",
      "3\n"
     ]
    }
   ],
   "source": [
    "## A if 조건1 else C 참이면 A 아니면  C\n",
    "#연습\n",
    "a = 1\n",
    "b = [1,2] \n",
    "c = 3\n",
    "d = a if a==b[0] else c \n",
    "print(d)\n",
    "e = a if a==b[1] else c \n",
    "print(e)"
   ]
  },
  {
   "cell_type": "code",
   "execution_count": null,
   "metadata": {
    "scrolled": true
   },
   "outputs": [],
   "source": []
  },
  {
   "cell_type": "code",
   "execution_count": 22,
   "metadata": {},
   "outputs": [
    {
     "name": "stdout",
     "output_type": "stream",
     "text": [
      "11\n",
      "    \n",
      "    \n",
      " \n"
     ]
    }
   ],
   "source": [
    "e, d, p = ' ', '-', '|'\n",
    "s = 2 \n",
    "t = ['23567890']\n",
    "n = input()\n",
    "for digit in n:\n",
    "    c = d if digit in t[0] else e\n",
    "    print (' %s '%(c*s)),\n",
    "print(' ')\n"
   ]
  },
  {
   "cell_type": "code",
   "execution_count": 33,
   "metadata": {},
   "outputs": [
    {
     "name": "stdout",
     "output_type": "stream",
     "text": [
      "11\n",
      "11\n",
      "\n",
      "11\n"
     ]
    },
    {
     "data": {
      "text/plain": [
       "<function print>"
      ]
     },
     "execution_count": 33,
     "metadata": {},
     "output_type": "execute_result"
    }
   ],
   "source": [
    "##\n",
    "#프린트 실험\n",
    "##\n",
    "print(11, sep = '\\n')\n",
    "print(11)\n",
    "print()\n",
    "print(11)\n",
    "print"
   ]
  },
  {
   "cell_type": "code",
   "execution_count": 7,
   "metadata": {},
   "outputs": [],
   "source": [
    "########################\n",
    "###실습하기\n",
    "##############################\n",
    "\n",
    "table = [\n",
    "  ['23567890'],\n",
    "  ['456890', '12347890'],\n",
    "  ['2345689'],\n",
    "  ['2680', '134567890'],\n",
    "  ['2356890']\n",
    "]\n",
    "e, d, p = ' ', '-', '|'"
   ]
  },
  {
   "cell_type": "code",
   "execution_count": 12,
   "metadata": {},
   "outputs": [
    {
     "name": "stdout",
     "output_type": "stream",
     "text": [
      "크기(뛰고) 표시할숫자2 23\n",
      " --   --  \n",
      "   |    | \n",
      "   |    | \n",
      " --   --  \n",
      "|       | \n",
      "|       | \n",
      " --   --  \n",
      "\n",
      "크기(뛰고) 표시할숫자3 5678\n",
      " ---   ---   ---   ---  \n",
      "|     |         | |   | \n",
      "|     |         | |   | \n",
      "|     |         | |   | \n",
      " ---   ---         ---  \n",
      "    | |   |     | |   | \n",
      "    | |   |     | |   | \n",
      "    | |   |     | |   | \n",
      " ---   ---         ---  \n",
      "\n",
      "크기(뛰고) 표시할숫자0 0\n"
     ]
    }
   ],
   "source": [
    "\n",
    "while True :\n",
    "    s, n = input('크기(뛰고) 표시할숫자').split(' ')\n",
    "    if s == '0' and n == '0':\n",
    "        break\n",
    "    s = int(s)\n",
    "    for table_turn in range(0,5):\n",
    "        t = table[table_turn]\n",
    "        if len(t) == 1:\n",
    "            for garo_loop in n:\n",
    "                c = d if garo_loop in t[0] else e\n",
    "                print(' %s  '%(c*s), end = '')\n",
    "            print()\n",
    "        else:\n",
    "             for u in range(0,s):\n",
    "                    for sero_loop in n:\n",
    "                        h = [p if sero_loop in x else e for x in t]\n",
    "                        print('%s%s%s '%(h[0],e*s,h[1]),end  ='')\n",
    "                    print()\n",
    "    print()\n",
    "    \n",
    "                "
   ]
  },
  {
   "cell_type": "code",
   "execution_count": 1,
   "metadata": {},
   "outputs": [],
   "source": [
    "table = [\n",
    "  ['23567890'],\n",
    "  ['456890', '12347890'],\n",
    "  ['2345689'],\n",
    "  ['2680', '134567890'],\n",
    "  ['2356890']\n",
    "]\n",
    "e, d, p = ' ', '-', '|'"
   ]
  },
  {
   "cell_type": "code",
   "execution_count": 6,
   "metadata": {},
   "outputs": [
    {
     "name": "stdout",
     "output_type": "stream",
     "text": [
      "      --   --  \n",
      "   |    |    | \n",
      "   |    |    | \n",
      "      --   --  \n",
      "   | |       | \n",
      "   | |       | \n",
      "      --   --  \n"
     ]
    }
   ],
   "source": [
    "##안보고 1more ok\n",
    "\n",
    "aa = '2 123'\n",
    "s, n = aa.split()\n",
    "\n",
    "s= int(s)\n",
    "#\n",
    "for number in range(0,5):\n",
    "    t= table[number]\n",
    "    if len(t) == 1:\n",
    "        for digit in n:\n",
    "            c = d if digit in t[0] else e \n",
    "            print(' %s  '%(c*s),end = '')\n",
    "        print()\n",
    "    else:\n",
    "        for row in range(s):\n",
    "            for digit in n:\n",
    "                c = [p if digit in x else e for x in t]\n",
    "                print('%s%s%s '%(c[0],(e*s),c[1]),end ='' )\n",
    "            print()\n",
    "                      \n",
    "                      \n",
    "                      \n",
    "        \n",
    "        \n",
    "\n"
   ]
  }
 ],
 "metadata": {
  "kernelspec": {
   "display_name": "Python 3",
   "language": "python",
   "name": "python3"
  },
  "language_info": {
   "codemirror_mode": {
    "name": "ipython",
    "version": 3
   },
   "file_extension": ".py",
   "mimetype": "text/x-python",
   "name": "python",
   "nbconvert_exporter": "python",
   "pygments_lexer": "ipython3",
   "version": "3.7.6"
  }
 },
 "nbformat": 4,
 "nbformat_minor": 2
}
