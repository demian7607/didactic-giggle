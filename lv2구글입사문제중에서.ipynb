{
 "cells": [
  {
   "cell_type": "code",
   "execution_count": null,
   "metadata": {},
   "outputs": [],
   "source": [
    "1부터 10,000까지 8이라는 숫자가 총 몇번 나오는가?\n",
    "8이 포함되어 있는 숫자의 갯수를 카운팅 하는 것이 아니라 8이라는 숫자를 모두 카운팅 해야 한다.\n",
    "(※ 예를들어 8808은 3, 8888은 4로 카운팅 해야 함)"
   ]
  },
  {
   "cell_type": "code",
   "execution_count": 12,
   "metadata": {},
   "outputs": [
    {
     "data": {
      "text/plain": [
       "4000"
      ]
     },
     "execution_count": 12,
     "metadata": {},
     "output_type": "execute_result"
    }
   ],
   "source": [
    "##int가 아닌 string으로 변환하면 문자로 인식하니 모든 원소내의 8 다찾는듯\n",
    "\n",
    "aa= list(range(1,10001))\n",
    "# print(aa)\n",
    "\n",
    "aa1 = str(aa)\n",
    "# print(aa1)\n",
    "aa1.count('8')"
   ]
  },
  {
   "cell_type": "code",
   "execution_count": 23,
   "metadata": {},
   "outputs": [
    {
     "name": "stdout",
     "output_type": "stream",
     "text": [
      "<class 'list'>\n",
      "<class 'str'>\n",
      "['apple', 'amazon']\n",
      "3\n"
     ]
    }
   ],
   "source": [
    "fang= ['apple','amazon']\n",
    "print(type(fang))\n",
    "fang=str(fang) #리스트 전체를 그냥 하나의 문자로 인식하는듯?\n",
    "print(type(fang))\n",
    "print(fang)\n",
    "print(fang.count('a'))"
   ]
  },
  {
   "cell_type": "code",
   "execution_count": 17,
   "metadata": {
    "scrolled": false
   },
   "outputs": [
    {
     "name": "stdout",
     "output_type": "stream",
     "text": [
      "int형 리스트 bb\n",
      "[8, 88, 108]\n",
      "int형에서 8의 개수는 1\n",
      "문자열로 바뀐 cc\n",
      "[8, 88, 108]\n",
      "4\n"
     ]
    }
   ],
   "source": [
    "##int가 아닌 string으로 변환하면 문자로 인식하니 모든 원소내의 8 다찾는듯\n",
    "## ['apple','amazon']\n",
    "\n",
    "print('int형 리스트 bb')\n",
    "bb= [8,88,108]\n",
    "print(bb)\n",
    "print('int형에서 8의 개수는 %d:'%bb.count(8))\n",
    "cc = str(bb)\n",
    "print('문자열로 바뀐 cc')\n",
    "print(cc)\n",
    "print('str형에서 8의 개수는 %d:'%cc.count('8'))"
   ]
  },
  {
   "cell_type": "code",
   "execution_count": 30,
   "metadata": {},
   "outputs": [
    {
     "data": {
      "text/plain": [
       "4000"
      ]
     },
     "execution_count": 30,
     "metadata": {},
     "output_type": "execute_result"
    }
   ],
   "source": [
    "#안보고 풀기\n",
    "\n",
    "google = list(range(1,10001))\n",
    "# print(google)\n",
    "google_str = str(google)\n",
    "google_str.count('8')"
   ]
  }
 ],
 "metadata": {
  "kernelspec": {
   "display_name": "Python 3",
   "language": "python",
   "name": "python3"
  },
  "language_info": {
   "codemirror_mode": {
    "name": "ipython",
    "version": 3
   },
   "file_extension": ".py",
   "mimetype": "text/x-python",
   "name": "python",
   "nbconvert_exporter": "python",
   "pygments_lexer": "ipython3",
   "version": "3.7.6"
  }
 },
 "nbformat": 4,
 "nbformat_minor": 4
}
